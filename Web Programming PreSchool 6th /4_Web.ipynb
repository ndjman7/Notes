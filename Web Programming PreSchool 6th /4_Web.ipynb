{
 "cells": [
  {
   "cell_type": "markdown",
   "metadata": {
    "slideshow": {
     "slide_type": "slide"
    }
   },
   "source": [
    "1. 커맨드라인이란 무엇일까?\n",
    "2. Python과 장고 환경과 셋팅\n",
    "3. 파이썬을 배워보자\n",
    "4. __웹의 역사, 동작하는 방법 등 기초 지식__\n",
    "5. 웹 크롤링을 간단히 배워보자!"
   ]
  },
  {
   "cell_type": "markdown",
   "metadata": {
    "slideshow": {
     "slide_type": "slide"
    }
   },
   "source": [
    "# 웹의 역사, 동작하는 방법 등 기초 지식\n",
    "\n",
    "- 인터넷과 웹\n",
    "- URL\n",
    "- HTTP\n",
    "- HTML\n",
    "- 웹 프로그램"
   ]
  },
  {
   "cell_type": "markdown",
   "metadata": {
    "collapsed": true,
    "slideshow": {
     "slide_type": "slide"
    }
   },
   "source": [
    "## 인터넷과 웹\n",
    "인터넷: 기기간 연결 기술\n",
    "\n",
    "- 웹\n",
    "  - 인터넷 연결 후 사용하는 기술 중 하나\n",
    "  - 웹 주요 구성요소: URL, HTTP, HTML\n",
    "- 웹 브라우저\n",
    "   - 웹 서버와 웹 주요 구성 요소를 기반으로 양방향 통신하는 소프트웨어 ex) Chrome, Safari, Opera  \n",
    "\n",
    "\n",
    "웹은 클라이언트와 서버로 구성\n",
    "\n",
    "![](https://mdn.mozillademos.org/files/6475/web-site-architechture@2x.png)\n",
    "\n",
    "### 웹 클라이언트\n",
    "웹클라이언트는 보통 웹브라우저 \n",
    "Chrome, Internet Explorer, Firefox, Opera  \n",
    "웹서버에서 html을 전송하면, 이를 받아서 브라우저에 보여줌\n",
    "\n",
    "### 웹 서버\n",
    "웹서버는 보통 http 서버를 뜻함 ex) Microsoft's IIS, Apache server, Nginx  \n",
    "원격에 위치하며, http 통신을 하기 위해 설치된 소프트웨어  \n",
    "웹데이터는 웹 사이트에서 추출된 정보, http통신으로 교환되는 데이터를 말함\n",
    "\n"
   ]
  },
  {
   "cell_type": "markdown",
   "metadata": {
    "collapsed": true,
    "slideshow": {
     "slide_type": "slide"
    }
   },
   "source": [
    "## URL\n",
    "URI (Uniform Resource Identifier) 특정자원을 지칭하는 고유명사\n",
    "\n",
    "형식\n",
    "  `scheme:[//[user:password@]host[:port]][/]path[?query][#fragment]`\n",
    "  \n",
    "가운데 많이 쓰이는 인터넷주소 __URL__(Uniform Resource Locator)\n",
    "\n",
    "1) 프로토콜과 2) 호스트 주소, 3) 경로로 구성\n",
    "\n",
    "scheme에 http를 적는다. 예: http://www.naver.com\n",
    "\n",
    "도메인 네임 - 흔히 말하는 인터넷주소  \n",
    "영어로 된 도메인네임은 사람이, 컴퓨터는 숫자로 된 ip 주소\n",
    "DNS에서 도메인네임을 ip주소로 변환  \n",
    "도메인에 전송되는 명령어 역할을 하는 params에서 설명  \n",
    "\n",
    "### 로컬 html 파일보기\n",
    "\n",
    "주소창에 '로컬파일 주소'를 형식에 맞추어 입력\n",
    "\n",
    "  `file://host/path/to/html`\n",
    "\n",
    "로컬에 저장된 파일을 읽어오는 URI를 구성한다.\n",
    "'localhost'는 자신의 컴퓨터 명칭 'hostname'이다. 그 IP주소는 __127.0.0.1__  \n",
    "로컬파일을 부를 경우 'localhost'는 생략가능\n",
    "\n",
    "  `file://localhost/home/jsl/Code/src/mypage1.html`\n",
    "  `file:///home/jsl/Code/src/mypage1.html`\n",
    "  "
   ]
  },
  {
   "cell_type": "markdown",
   "metadata": {
    "slideshow": {
     "slide_type": "slide"
    }
   },
   "source": [
    "## HTTP\n",
    "HTTP (HpyerText Transfer Protocol)는 웹프로토콜, 서로 데이터를 주고 받는 __약속__    \n",
    "request(s)로 요청하고, response(s)를 반환  \n",
    "\n",
    "### 웹클라이언트에서 웹페이지를 여는 경우\n",
    "\n",
    "1. 자신의 컴퓨터에서(클라이언트) __웹브라우저__를 열어서 주소창에 웹주소를 입력하고,  \n",
    "2. 네트워크를 통해 서버에 __요청(Requests)__하고, 웹페이지를 __반환(Responses)__ 받고,  \n",
    "3. 반환된 페이지 html을 스타일에 따라 브라우저에 표현한다. 이를 __렌더링 (rendering)__\n",
    "\n",
    "-> html은 그대로 읽기가 불편하기 때문에, 웹브라우저를 사용하여 html을 보기 좋게 표현\n"
   ]
  },
  {
   "cell_type": "markdown",
   "metadata": {
    "slideshow": {
     "slide_type": "slide"
    }
   },
   "source": [
    "## HTML\n",
    "- HyperText Markup Language\n",
    "- 태그로 표식을 명시하여 의미 부여\n",
    "- 현재는 HTML5를 주로 사용\n",
    "\n",
    "```html\n",
    "<a href=\"http://www.naver.com\">네이버</a>\n",
    "```\n",
    "\n",
    "태그, 속성, 속성 값, 내용\n",
    "\n",
    "|HTML 태그|설명|\n",
    "|----|----|\n",
    "|DOCTPYE|HTML을 알리는 문서|\n",
    "|html|html 문서임을 알리는 역할|\n",
    "|head|눈에 보이지 않지만 HTML 문서를 구성하는 정보와 요소를 담는 역할|\n",
    "|title|문서 제목 정보|\n",
    "|body|눈에 보이지만|\n",
    "|div|영역을 잡는데 사용한다.|\n",
    "|p|단락을 영역을 잡는다.|\n",
    "|a|url을 연결하는데 사용한다.|\n",
    "\n",
    "```html\n",
    "<!DOCTYPE html>\n",
    "<html>\n",
    "<head>\n",
    "<meta charset=\"UTF-8\">\n",
    "<title>PreSchool</title>\n",
    "</head>\n",
    "<body>\n",
    "<h1>첫 번째 HTML</h1>\n",
    "<p>4번 째 수업시간</p>\n",
    "<p>벌써 다음이 마지막수업이네요...</p>\n",
    "</body>\n",
    "</html>\n",
    "```\n",
    "\n"
   ]
  },
  {
   "cell_type": "markdown",
   "metadata": {
    "slideshow": {
     "slide_type": "slide"
    }
   },
   "source": [
    "## 웹 프로그램\n",
    "웹은 정적이지 않음. ex) Facebook  \n",
    "동적으로 변하는 컨텐츠가 존재.\n",
    "\n",
    "특정 경로에 있는 파일을 제공(serving)하는 데 그치지 않고, 블로그처럼 상황에 따라 동적으로 변하는 컨텐츠를 제공할 필요성이 생김!  \n",
    "\n",
    "그 결과 웹에서 그러한 처리를 전담하는 전용 프로그램 등장\n",
    "\n",
    "![](http://cfile21.uf.tistory.com/image/2534363B576218E926945C)\n",
    "\n",
    "## RESTful API\n",
    "API는 REST (REpresentational State Transfer) 방식으로 제공되는 경우가 많음   \n",
    "REST는 '웹서비스'를 제공하는 아키텍처를 말함  \n",
    "넓은 의미로 보면, REST를 이용해서 데이터를 가져오는 것도 웹크롤링이라고 볼 수 있음  \n",
    "그러나, 웹크롤링이 HTML 페이지를 대상으로 한다면, REST는 그 대상이 페이지가 아니라 데이터, 자원 resource   \n",
    "물론 웹크롤링과 달리, REST는 공식적으로 제공하는 API를 사용한다는 큰 차이가 있다.  \n",
    "\n",
    "- REST의 API.  \n",
    "\t- URI, 자원 ID, HTTP 방법 (POST, DELETE, GET, PUT)을 명시하여 자원 Resource를 읽어 온다.\n",
    "\t- '자원'은 REST를 사용해서 가져올 수 있는 데이터로 HTML 페이지, XML, JSON 등을 말한다.\n",
    "\t- 데이터는 표현한다는 의미로 Representations이라고 하며 주로 JSON, XML을 많이 쓰고 있다.\n",
    "\t- 자원은 URI 주소 방식에 따라 지정할 수 있다. 뒤에 Query Parameter를 추가할 수 있다. URI를 'endpoint'라고 한다.\n",
    "\n",
    "## JSON\n",
    "JSON (JavaScript Object Notation)은 Javascript에서 사용하는 표기  \n",
    "Python의 dictionary형식과 같다.\n",
    "\n",
    "http://openAPI.seoul.go.kr:8088/58674d764d6e646a36387759757564/json/SearchSTNBySubwayLineService/1/5/1/\n"
   ]
  },
  {
   "cell_type": "markdown",
   "metadata": {
    "slideshow": {
     "slide_type": "slide"
    }
   },
   "source": [
    "# (마무리) 웹의 역사, 동작하는 방법 등 기초 지식\n",
    "\n",
    "- 인터넷과 웹\n",
    "- URL\n",
    "- HTTP\n",
    "- HTML\n",
    "- 웹 프로그램"
   ]
  }
 ],
 "metadata": {
  "celltoolbar": "Slideshow",
  "kernelspec": {
   "display_name": "Python 3",
   "language": "python",
   "name": "python3"
  },
  "language_info": {
   "codemirror_mode": {
    "name": "ipython",
    "version": 3
   },
   "file_extension": ".py",
   "mimetype": "text/x-python",
   "name": "python",
   "nbconvert_exporter": "python",
   "pygments_lexer": "ipython3",
   "version": "3.4.3"
  }
 },
 "nbformat": 4,
 "nbformat_minor": 2
}
