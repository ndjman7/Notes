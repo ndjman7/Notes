{
 "cells": [
  {
   "cell_type": "markdown",
   "metadata": {
    "slideshow": {
     "slide_type": "slide"
    }
   },
   "source": [
    "1. 커맨드라인이란 무엇일까?\n",
    "2. Python과 장고 환경과 셋팅\n",
    "3. __파이썬을 배워보자__\n",
    "4. 웹의 역사, 동작하는 방법 등 기초 지식\n",
    "5. 웹 크롤링을 간단히 배워보자!"
   ]
  },
  {
   "cell_type": "markdown",
   "metadata": {
    "slideshow": {
     "slide_type": "slide"
    }
   },
   "source": [
    "# 파이썬을 배워보자\n",
    "\n",
    "- 변수와 자료형\n",
    "- 조건문과 반복문\n",
    "- 함수\n",
    "- 예외처리\n",
    "- 모듈과 패키지\n",
    "- 클래스"
   ]
  },
  {
   "cell_type": "markdown",
   "metadata": {
    "slideshow": {
     "slide_type": "slide"
    }
   },
   "source": [
    "### 실행 방법\n",
    "\n",
    "1. Interactive shell\n",
    "2. Python 명령어로 실행"
   ]
  },
  {
   "cell_type": "markdown",
   "metadata": {
    "collapsed": true,
    "slideshow": {
     "slide_type": "subslide"
    }
   },
   "source": [
    "### 파이썬 철학\n",
    "```python\n",
    "import this\n",
    "```\n",
    "\n",
    "```\n",
    "못생긴 것 보다 아름다운 것이 더 낫다.\n",
    "함축적인 것 보다 분명한 것이 더 낫다.\n",
    "복잡한 것 보다 간단한 것이 더 낫다.\n",
    "중첩된 것 보다 일렬로 있는게 더 낫다.\n",
    "빡빡한 것 보다 널널한게 더 낫다.\n",
    "가독성이 중요하다.\n",
    "특별한 경우가 많을 수록 정해진 규칙을 깨기 쉽다.\n",
    "실용적인 것이 원론보다 더 낫다.\n",
    "오류는 결코 어디서 발생했는지 나타나야 합니다.\n",
    "경우에 따라서 분명하게 오류 발생을 억제시킬 수 있다. \n",
    "프로그램에서 모호성이 발견된다면 코드를 상상하려하면 안된다.\n",
    "어떤 코드를 작성하는데 있어 그 방법을 해결하는 (최상의) 방법은 한가지 방법으로 풀어야 합니다.\n",
    "때로는 (지금) 당장 해야 하느니 안 하는 것이 나을 경우도 있기는 합니다.\n",
    "구현된 것을 설명하기에 너무 어렵게 했다면 좋은 구현이 아니지요.\n",
    "반대로 구현한 것을 쉽게 설명한다면 좋은 구현입니다.\n",
    "네임스페이스라는 것은 아주 훌륭한 아이디어 입니다.\n",
    "```"
   ]
  },
  {
   "cell_type": "markdown",
   "metadata": {
    "slideshow": {
     "slide_type": "subslide"
    }
   },
   "source": [
    "### 파이썬은 객체지향 언어\n",
    "\n",
    "파이썬에서는 __모든 것__(부울, 정수, 실수, 문자열, 데이터 구조, 함수, 프로그램)이 __객체__로 구현되어 있음."
   ]
  },
  {
   "cell_type": "markdown",
   "metadata": {
    "slideshow": {
     "slide_type": "slide"
    }
   },
   "source": [
    "## 변수와 자료형\n",
    "\n",
    "데이터 값이 변경될 수 있으면 __변수__  \n",
    "데이터 값이 변경될 수 없으면 __상수__  \n",
    "\n",
    "__할당__  \n",
    "[변수이름] = [데이터]\n",
    "\n",
    "변수는 단지 이름이다. 값을 __할당__한다는 것은 복사하는 것이 아니라 데이터가 담긴 객체에 이름을 붙이는 것.  \n",
    "즉 __참조__이며, 포스트잇을 붙이는 것.\n",
    "\n",
    "```python\n",
    "a='abc'\n",
    "print(a)\n",
    "print(id(a))\n",
    "\n",
    "b=a\n",
    "print(b)\n",
    "print(id(b))\n",
    "```"
   ]
  },
  {
   "cell_type": "markdown",
   "metadata": {
    "slideshow": {
     "slide_type": "subslide"
    }
   },
   "source": [
    "### 자료형\n",
    "\n",
    "### _정수형_\n",
    "- 1,95,700, -1\n",
    "### _실수형_\n",
    "- -12.0, 234.5\n",
    "### _부울형_\n",
    "- True or False"
   ]
  },
  {
   "cell_type": "markdown",
   "metadata": {
    "slideshow": {
     "slide_type": "subslide"
    }
   },
   "source": [
    "### 순서열 자료형(Sequence)\n",
    "\n",
    "- 양의 정수로 색인(index)되게 순서대로 객체들이 나열된 모음  \n",
    "- 반복(순환)가능한 (iterable)객체  \n",
    "- 모든 순서열에 적용되는 공통 연산이나 함수 존재\n",
    "\n",
    "```python\n",
    "a = \"abcd\" - 문자열\n",
    "b = ['a','b','c','d'] - 리스트\n",
    "c = ('a','b','c','d') - 튜플\n",
    "```"
   ]
  },
  {
   "cell_type": "markdown",
   "metadata": {
    "slideshow": {
     "slide_type": "subslide"
    }
   },
   "source": [
    "### _문자열_\n",
    "\n",
    "- 문자형 객체의 연속된 묶음\n",
    "- ' \" 구분 없음\n",
    "- 여러 줄은 \"\"\"을 사용\n",
    "\n",
    "```python\n",
    "a = \"Python\" - 문자열\n",
    "```\n",
    "\n"
   ]
  },
  {
   "cell_type": "markdown",
   "metadata": {
    "slideshow": {
     "slide_type": "subslide"
    }
   },
   "source": [
    "#### 문자열 포매팅\n",
    "데이터 값을 문자열 사이에 끼워넣는 방법\n",
    "\n",
    "__%를 이용하는 방법__\n",
    "```python\n",
    "name = 'pando'\n",
    "print (\"Hello, %s\" % name)\n",
    "```\n",
    "\n",
    "__{}를 이용하는 방법__\n",
    "```python\n",
    "name = 'pando'\n",
    "print (\"Hello, {}\".format(name))\n",
    "\n",
    "print (\"Hello, {name}\".format(name= name))\n",
    "```"
   ]
  },
  {
   "cell_type": "markdown",
   "metadata": {
    "slideshow": {
     "slide_type": "subslide"
    }
   },
   "source": [
    "\n",
    "#### 문자열 슬라이싱\n",
    "\n",
    "한 문자열에서 문자열의 일부를 추출할 수 있음  \n",
    "__[start:end:step]__을 명시하여 슬라이스를 정의  \n",
    "시작 오프셋을 명시하지 않으면 0, 끝 오프셋을 명시하지 않으면 마지막 문자를 사용함  \n",
    "\n",
    "```python\n",
    "a = \"Python\"\n",
    "a[:3]\n",
    "a[3:]\n",
    "a[0:6:2]\n",
    "a[0:6:-1]\n",
    "```"
   ]
  },
  {
   "cell_type": "markdown",
   "metadata": {
    "slideshow": {
     "slide_type": "subslide"
    }
   },
   "source": [
    "### _리스트_\n",
    "\n",
    "- 순서를 갖는 다양한 객체들의 시퀀스\n",
    "- 대괄호로 만듬 [ ]\n",
    "- 변경 가능한 객체\n",
    "\n",
    "리스트를 생성하기: [ ] or list()\n",
    "\n",
    "```python\n",
    "value_list = []\n",
    "value_list = list()\n",
    "```\n",
    "\n",
    "|문법|기능|\n",
    "|----|----|\n",
    "|append( )|마지막에 요소 추가|\n",
    "|insert( )|원하는 위치에 요소 추가|\n",
    "|extend( )|리스트 병합|\n",
    "|pop( )|마지막 요소 추출|\n",
    "|del( )|오프셋으로 요소 삭제|\n",
    "|remove( )|인자로 전달한 값을 갖는 요소 제거|  \n",
    "|count( )|값 세기|\n",
    "\n",
    "\n",
    "\n",
    "```python\n",
    "b = ['P','y','t','h','o','n'] - 리스트\n",
    "```\n",
    "\n"
   ]
  },
  {
   "cell_type": "markdown",
   "metadata": {
    "slideshow": {
     "slide_type": "subslide"
    }
   },
   "source": [
    "### _튜플 _\n",
    "- 소괄호로 만듬 ( )\n",
    "- 변경 불가한 객체\n",
    "- 상수 리스트\n",
    "\n",
    "```python\n",
    "c = ('a','b','c','d') - 튜플\n",
    "```\n",
    "\n",
    "#### 튜플과 리스트\n",
    "- 튜플은 더 적은 공간을 사용\n",
    "- 튜플의 항목이 손상될 염려가 없음\n",
    "- 튜플은 딕셔녀리의 키로 이용할 수 있음\n",
    "\n",
    "```python\n",
    "houses = {\n",
    "    (44.79, -93.14, 285): 'My House',\n",
    "    (38.89, -77.03, 13): 'The White House'\n",
    "    }\n",
    "```"
   ]
  },
  {
   "cell_type": "markdown",
   "metadata": {
    "slideshow": {
     "slide_type": "subslide"
    }
   },
   "source": [
    "### 매핑 - 사전형\n",
    "- 키(key)와 값(value) 형태로 짝지어 담은 사전(dictionary)자료형\n",
    "- 순서열과 달리 사전형은 순서 보장 X\n",
    "- 중괄호로 생성 키랑 값을 콜론으로 (:) 구분 지음\n",
    "- 변경 가능한 객체\n",
    "- 중괄호로 생성 {} 또는 dict()\n",
    "\n",
    "```python\n",
    "d = dict()\n",
    "d['name'] = 'daejin'\n",
    "\n",
    "print (d)\n",
    "\n",
    "{'name': 'daejin'}\n",
    "``` \n"
   ]
  },
  {
   "cell_type": "markdown",
   "metadata": {
    "slideshow": {
     "slide_type": "subslide"
    }
   },
   "source": [
    "### 셋\n",
    "\n",
    "셋은 키만 남은 딕셔녀리  \n",
    "즉 값이 유일해야 함  \n",
    "중괄호로 생성 {} 또는 set()\n",
    "\n",
    "```python\n",
    "{0,2,4,6,8}\n",
    "```"
   ]
  },
  {
   "cell_type": "markdown",
   "metadata": {
    "collapsed": true,
    "slideshow": {
     "slide_type": "slide"
    }
   },
   "source": [
    "## 조건문과 반복문\n",
    "\n",
    "### 조건문\n",
    "- if문의 기본 구조\n",
    "- 들여쓰기\n",
    "- 조건문이란 무엇인가?\n",
    "- 다양한 조건을 판단하는 elif\n",
    "\n",
    "if 와 else는 조건이 참인지 거짓인지 확인하는 파이썬의 __선언문__  \n",
    "다른 언어와 달리 if 조건 테스트에는 괄호( )가 필요없음 대신 콜론(:)을 사용\n",
    "\n",
    "__코드 구조__를 생성할 때는 들여쓰기를 함  \n",
    "__pep-8__이라는 파이썬 코드 권장 스타일에서는 들여쓰기를 4칸(스페이스)사용  \n",
    "\n",
    "\n",
    "```python\n",
    "if [조건]:\n",
    "    [실행 내용]\n",
    "elif [조건]:\n",
    "    [실행 내용]\n",
    "else:\n",
    "    [실행 내용]\n",
    "```"
   ]
  },
  {
   "cell_type": "markdown",
   "metadata": {
    "slideshow": {
     "slide_type": "subslide"
    }
   },
   "source": [
    "### 반복문\n",
    "- 순서열 자료형을 이용\n",
    "- for, while\n",
    "- break\n",
    "- continue\n",
    "\n",
    "```python\n",
    "for [그 중 한 요소] in [반복가능한 객체]:\n",
    "    [실행 내용]\n",
    "\n",
    "while [조건]:\n",
    "    [실행 내용]\n",
    "```\n",
    "\n"
   ]
  },
  {
   "cell_type": "markdown",
   "metadata": {
    "slideshow": {
     "slide_type": "subslide"
    }
   },
   "source": [
    "__중단하기(break)__  \n",
    "어떤 일이 언제 일어날지 확실하지 않다면, __무한루프__속에 break문을 사용\n",
    "\n",
    "__건너뛰기(continue)__\n",
    "반복문을 중단시키지 않고, 해당 루프만을 건너뛸 때 continue를 사용\n",
    "\n",
    "```python\n",
    "word = 'Hello World'\n",
    "\n",
    "d = dict()\n",
    "for c in word:\n",
    "    if c not in d:\n",
    "        d[c]=1\n",
    "    else:\n",
    "        d[c]=d[c]+1\n",
    "print (\"키-키값 {}\\n\".format(d))\n",
    "print (\"저장된 문자의 갯수 (중복을 빼고) {}\\n\".format(len(d)))\n",
    "print (\"키: {}\\n\".format(d.keys()))\n",
    "print (\"키값: {}\\n\".format(d.values()))\n",
    "```\n"
   ]
  },
  {
   "cell_type": "markdown",
   "metadata": {
    "slideshow": {
     "slide_type": "subslide"
    }
   },
   "source": [
    "### 컴프리헨션\n",
    "__컴프리헨션__은 하나 이상의 이터레이터로부터 파이썬의 자료구조를 만드는 콤팩트한 방법  \n",
    "비교적 간편한 구문으로 조건문과 반목문을 결합할 수 있도록 해준다.\n",
    "파이써닉한 방법\n",
    "\n",
    "[표현식 for 항목 in 순회 가능한 객체]\n",
    "\n",
    "\n",
    "```python\n",
    "list1 = []\n",
    "for i in range(10):\n",
    "    if i % 2 == 0:\n",
    "        list1.append(i)\n",
    "\n",
    "list2 = [x for x in range(10) if x%2==0]\n",
    "```"
   ]
  },
  {
   "cell_type": "markdown",
   "metadata": {
    "slideshow": {
     "slide_type": "slide"
    }
   },
   "source": [
    "## 함수\n",
    "![](https://encrypted-tbn2.gstatic.com/images?q=tbn:ANd9GcTkRJWeiDKpx0nIFvK_Tzk8vWIxM4THfZODQmSeXfgylpAzk_YNag)\n",
    "\n",
    "- 함수를 사용하는 이유?\n",
    "  - 반복되는 부분이 있을 경우, 한 뭉치로 묶어서 어떤 입력값을 주었을 때 어떤 결과값을 돌려줌\n",
    "  - 프로그램의 흐름을 일목요연하게 볼 수 있음\n",
    "  - 재사용이 가능\n",
    "- 여러 구문을 묶은 단위\n",
    "\n",
    "__함수의 작업__\n",
    "- 정의하기(define)\n",
    "- 호출하기(call)\n"
   ]
  },
  {
   "cell_type": "markdown",
   "metadata": {
    "slideshow": {
     "slide_type": "subslide"
    }
   },
   "source": [
    "### 함수의 구성요소\n",
    "- 매개변수(parameter) 인자(arguments)\n",
    "- 반환(return)\n",
    "\n",
    "```python\n",
    "def adder(a,b):\n",
    "   answer = a + b\n",
    "   return answer\n",
    "   \n",
    "value = adder(10, 20)\n",
    "```"
   ]
  },
  {
   "cell_type": "markdown",
   "metadata": {
    "slideshow": {
     "slide_type": "slide"
    }
   },
   "source": [
    "## 예외처리\n",
    "파이썬에서는 관련 에러가 발생할 때 실행되는 코드인 __예외__를 사용\n",
    "에러가 발생하면 프로그램이 종료가 되기 때문에 모든 잠재적인 에러를 방지하기 위해 적절한 __예외 처리__가 필요\n",
    "\n",
    "```python\n",
    "try:\n",
    "    [에러가 날 수 있는 코드]\n",
    "except:\n",
    "    [에러 처리 코드]\n",
    "```\n",
    "\n",
    "특정 에러를 처리할 경우에\n",
    "\n",
    "except 예외 타입 as 이름"
   ]
  },
  {
   "cell_type": "markdown",
   "metadata": {
    "slideshow": {
     "slide_type": "slide"
    }
   },
   "source": [
    "## 모듈과 패키지"
   ]
  },
  {
   "cell_type": "markdown",
   "metadata": {
    "slideshow": {
     "slide_type": "subslide"
    }
   },
   "source": [
    "### 모듈\n",
    "__모듈__ : 파이썬 파일\n",
    "\n",
    "책은 단어, 문자, 단락, 장의 계층구조가 존재  \n",
    "코드도 이와 같은 상향식 구조  \n",
    "데이터 타입, 선언문, 함수, 모듈  \n",
    "\n",
    "|책|코드|\n",
    "|----|----|\n",
    "|단어|데이터 타입|\n",
    "|문장|선언문|\n",
    "|단락|함수|\n",
    "|장|모듈|\n",
    "\n"
   ]
  },
  {
   "cell_type": "markdown",
   "metadata": {
    "slideshow": {
     "slide_type": "subslide"
    }
   },
   "source": [
    "#### 모듈 임포트\n",
    "\n",
    "```python\n",
    "import [모듈]\n",
    "```\n",
    "\n",
    "#### 다른 이름으로 모듈 임포트\n",
    "\n",
    "```python\n",
    "import [모듈] as [이름]\n",
    "```\n",
    "\n",
    "#### 필요한 모듈만 임포트\n",
    "\n",
    "```python\n",
    "from [모듈] import [필요한 부분]\n",
    "```"
   ]
  },
  {
   "cell_type": "markdown",
   "metadata": {
    "slideshow": {
     "slide_type": "subslide"
    }
   },
   "source": [
    "### 패키지\n",
    "\n",
    "__패키지__ : 모듈을 모아놓은 것\n",
    "\n",
    "파이썬 어플리케이션을 좀 더 확장 가능하게 만들기 위해 모듈을 __패키지__라는 파일 계층구조에 구성\n",
    "\n",
    "디렉토리에 파일 이외에 필요한 파일이 있는데, \\_\\_init\\_\\_.py 파일  \n",
    "파이썬은 이 파일을 포함하는 디렉터리를 패키지로 간주  \n",
    "\n",
    "```\n",
    "animal\n",
    "|--__init__.py\n",
    "|--cat.py\n",
    "|--dog.py\n",
    "```"
   ]
  },
  {
   "cell_type": "markdown",
   "metadata": {
    "slideshow": {
     "slide_type": "slide"
    }
   },
   "source": [
    "## 클래스\n",
    "- 객체 지향 프로그래밍 언어로 만드는 프로그램의 단위는 객체\n",
    "- 객체는 클래스를 실체화한 것이며, instance라고 한다. \n",
    "- 우리만의 객체를 만들 수 있음\n",
    "\n",
    "객체는 데이터(변수, __속성attribute__)와 코드(함수, __메서드method__)를 모두 포함\n",
    "\n",
    "```python\n",
    "[1]class [2] 클래스 이름 ([3]상속받을 클래스):\n",
    "    [4]멤버 변수\n",
    "    \n",
    "    def [5]메서드 이름\n",
    "```\n",
    "\n",
    "```python\n",
    "class Person(Object):\n",
    "    name = 'Pando'\n",
    "    \n",
    "    def hello():\n",
    "        print('안녕하세요')\n",
    "```\n",
    "\n",
    "1. 클래스 선언 예약어\n",
    "2. 클래스 이름\n",
    "3. 상속해 올 클래스\n",
    "4. 멤버 변수\n",
    "5. 메서드 이름\n",
    "\n",
    "```python\n",
    "Person.name\n",
    "one = Person()\n",
    "```\n",
    "\n",
    "1. '.'으로 객체 속성 탐색\n",
    "2. 속성 이름\n",
    "3. 소괄호를 이용해 객체를 호출하여 클래스로 인스턴스 객체 생성\n",
    "\n",
    "\n",
    "### 클래스 상속\n",
    "기존 클래스의 내용을 기반으로 새 클래스를 만드는 것\n"
   ]
  },
  {
   "cell_type": "markdown",
   "metadata": {
    "collapsed": true,
    "slideshow": {
     "slide_type": "slide"
    }
   },
   "source": [
    "# (마무리) 파이썬을 배워보자\n",
    "\n",
    "- 변수\n",
    "- 조건문과 분기문\n",
    "- 함수\n",
    "- 예외처리\n",
    "- 모듈과 패키지\n",
    "- 클래스"
   ]
  }
 ],
 "metadata": {
  "kernelspec": {
   "display_name": "Python 3",
   "language": "python",
   "name": "python3"
  },
  "language_info": {
   "codemirror_mode": {
    "name": "ipython",
    "version": 3
   },
   "file_extension": ".py",
   "mimetype": "text/x-python",
   "name": "python",
   "nbconvert_exporter": "python",
   "pygments_lexer": "ipython3",
   "version": "3.4.3"
  }
 },
 "nbformat": 4,
 "nbformat_minor": 2
}
