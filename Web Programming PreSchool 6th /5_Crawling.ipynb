{
 "cells": [
  {
   "cell_type": "markdown",
   "metadata": {
    "slideshow": {
     "slide_type": "slide"
    }
   },
   "source": [
    "1. 커맨드라인이란 무엇일까?\n",
    "2. Python과 장고 환경과 셋팅\n",
    "3. 파이썬을 배워보자\n",
    "4. 웹의 역사, 동작하는 방법 등 기초 지식\n",
    "5. __웹 크롤링을 간단히 배워보자!__"
   ]
  },
  {
   "cell_type": "markdown",
   "metadata": {
    "slideshow": {
     "slide_type": "slide"
    }
   },
   "source": [
    "# 웹 크롤링을 간단히 배워보자!\n",
    "- 크롤링\n",
    "- Selenium"
   ]
  },
  {
   "cell_type": "markdown",
   "metadata": {
    "slideshow": {
     "slide_type": "subslide"
    }
   },
   "source": [
    "## 크롤링\n",
    "데이터를 추출하는 것을 마이닝 (mining), 스크레이핑 (scraping), 크롤링 (crawling)이라 함.  \n",
    "웹에서 추출하는 것을 밝혀 앞에 웹을 넣어 웹마이닝, 웹크롤링, 웹스크레이핑이라고도 한다.  \n",
    "서버가 반환하는 웹데이터는 보통 __html, xml, json__ 형식을 가진다.  \n",
    "\n",
    "requests - web page가져오거나, API를 사용할 때.  \n",
    "\n",
    "- 설치\n",
    "`pip install requests`\n",
    "\n",
    "`requests.get(url)`\n",
    "\n",
    "BeautifulSoup - 많이 사용되는 Python 라이브러리 html, xml을 파싱할 수 있다.  \n",
    "\n",
    "- 설치\n",
    "`pip install beautifulsoup4`\n",
    "\n",
    "`BeautifulSoup(text, parser)`\n",
    "\n",
    "\n",
    "\n"
   ]
  },
  {
   "cell_type": "markdown",
   "metadata": {
    "slideshow": {
     "slide_type": "subslide"
    }
   },
   "source": [
    "### Parsing\n",
    "웹데이터는 __'문자열'__이다. 특정 tag를 추출하는 것이 매우 불편    \n",
    "`<h1>...</h1>`은 부등호문자,h,1으로 구성된 시작-끝 tag를 찾아야 한다.  \n",
    "문자열은 tag구조를 가지고 있지만, tag가 아니라 '문자열'이라서 tree구조를 만들어야 한다는 점에 유의한다.  \n",
    "parsing을 하면, 이런 tag 요소를 분리하고, __tree구조__로 만들어 분석을 용이하게 할 수 있다.  \n",
    "HTML DOM, XML, json은 tree 구조를 가지고, 특정 요소를 선택할 수 있다.\n",
    "\n",
    "> \"stage 1: import library\"  \n",
    "> \"stage 2: get html strings\"  \n",
    "> \"stage 3: transform strings to a tree\"  \n",
    "> \"stage 4: define a selector\"  \n",
    "> \"stage 5: get selected elements of the tree\"  \n",
    "\n",
    "기상청 날씨 크롤링하기  \n",
    "http://www.kma.go.kr/index.jsp"
   ]
  },
  {
   "cell_type": "markdown",
   "metadata": {
    "slideshow": {
     "slide_type": "subslide"
    }
   },
   "source": [
    "### dom\n",
    "- HTML은 브라우저에서 tree구조로 변환된다. 이를 DOM (Document Object Model)이라고 한다.\n",
    "- HTML, XHTML, XML 문서를 계층구조인 트리구조로 만들어, 각 노드를 오브젝트로 사용하는 API."
   ]
  },
  {
   "cell_type": "code",
   "execution_count": 14,
   "metadata": {
    "slideshow": {
     "slide_type": "subslide"
    }
   },
   "outputs": [
    {
     "data": {
      "text/html": [
       "<html>\n",
       "<body>\n",
       "<h2 class=\"my\">Turn this into blue</h2>\n",
       "<button onclick=\"myFunction()\">Click</button>\n",
       "<script>\n",
       "    function myFunction() {\n",
       "        document.querySelector(\".my\").style.backgroundColor = \"blue\";\n",
       "    }\n",
       "</script>\n",
       "</body>\n",
       "</html>"
      ],
      "text/plain": [
       "<IPython.core.display.HTML object>"
      ]
     },
     "metadata": {},
     "output_type": "display_data"
    }
   ],
   "source": [
    "%%HTML\n",
    "<html>\n",
    "<body>\n",
    "<h2 class=\"my\">Turn this into blue</h2>\n",
    "<button onclick=\"myFunction()\">Click</button>\n",
    "<script>\n",
    "    function myFunction() {\n",
    "        document.querySelector(\".my\").style.backgroundColor = \"blue\";\n",
    "    }\n",
    "</script>\n",
    "</body>\n",
    "</html>"
   ]
  },
  {
   "cell_type": "markdown",
   "metadata": {},
   "source": [
    "### selenium\n",
    "\n",
    "https://sites.google.com/a/chromium.org/chromedriver/downloads"
   ]
  },
  {
   "cell_type": "markdown",
   "metadata": {},
   "source": []
  }
 ],
 "metadata": {
  "celltoolbar": "Slideshow",
  "kernelspec": {
   "display_name": "Python 3",
   "language": "python",
   "name": "python3"
  },
  "language_info": {
   "codemirror_mode": {
    "name": "ipython",
    "version": 3
   },
   "file_extension": ".py",
   "mimetype": "text/x-python",
   "name": "python",
   "nbconvert_exporter": "python",
   "pygments_lexer": "ipython3",
   "version": "3.4.3"
  }
 },
 "nbformat": 4,
 "nbformat_minor": 2
}
