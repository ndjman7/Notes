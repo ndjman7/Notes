{
 "cells": [
  {
   "cell_type": "markdown",
   "metadata": {
    "slideshow": {
     "slide_type": "slide"
    }
   },
   "source": [
    "1. 커맨드라인이란 무엇일까?\n",
    "2. __Python과 장고 환경과 셋팅__\n",
    "3. 파이썬을 배워보자\n",
    "4. 웹의 역사, 동작하는 방법 등 기초 지식\n",
    "5. 웹 크롤링을 간단히 배워보자!"
   ]
  },
  {
   "cell_type": "markdown",
   "metadata": {
    "slideshow": {
     "slide_type": "slide"
    }
   },
   "source": [
    "# Python과 장고 환경과 셋팅\n",
    "\n",
    "- Python과 django\n",
    "- pyenv virtualenv\n",
    "- jupyter notebook\n"
   ]
  },
  {
   "cell_type": "markdown",
   "metadata": {
    "slideshow": {
     "slide_type": "slide"
    }
   },
   "source": [
    "## 1. Python과 django"
   ]
  },
  {
   "cell_type": "markdown",
   "metadata": {
    "slideshow": {
     "slide_type": "subslide"
    }
   },
   "source": [
    "### Python이란?\n",
    "\n",
    "- 쉽고 간결하고 명확함을 지향하는 실용적인 언어 (import this)\n",
    "- 동적 형 변환을 지원\n",
    "    - 변수에 다양한 객체를 자유롭게 할당\n",
    "- 객체 지향 인터프리터 언어\n",
    "    - 모든 데이터는 객체\n",
    "- 범용 프로그래밍 언어\n",
    "\n",
    "#### Python2 / Python3\n",
    "\n",
    "Python2와 Python3는 비슷한 부분 만큼이나 호환되지 않는 부분도 많아 학습, 구현을 목표로 할 때 둘 중에 하나를 선택해야 하는 문제가 발생  \n",
    "Python2는 2020년에 지원 중단 예정\n",
    "\n",
    "https://pythonclock.org/\n",
    "\n",
    "따라서 이제는 Python3를 많이 선택함\n",
    "\n",
    "#### Python의 인기\n",
    "\n",
    "[PYPL PopularitY of Programming Language](http://pypl.github.io) 2016년 8월 2위\n"
   ]
  },
  {
   "cell_type": "code",
   "execution_count": 5,
   "metadata": {
    "collapsed": true,
    "slideshow": {
     "slide_type": "subslide"
    }
   },
   "outputs": [],
   "source": [
    "# 파이썬이 간결하고 실용적인 언어임을 보여주는 코드\n",
    "import antigravity"
   ]
  },
  {
   "cell_type": "markdown",
   "metadata": {
    "slideshow": {
     "slide_type": "subslide"
    }
   },
   "source": [
    "### django란?\n",
    "\n",
    "- 웹 서비스 개발에 필요한 기능을 다양하게 제공하는 프레임워크\n",
    "- 오픈소스 프로젝트, 무료\n",
    "- 오랜 역사 (계속해서 업데이트 진행 중 올해 말에 2.0 출시) Python2 제외\n",
    "- 대표적인 예시로 Instagram"
   ]
  },
  {
   "cell_type": "markdown",
   "metadata": {
    "slideshow": {
     "slide_type": "subslide"
    }
   },
   "source": [
    "#### 프레임워크\n",
    "어떠한 목적을 달성하기 위해 복잡하게 얽혀있는 문제를 해결하기 위한 구조이며, 소프트웨어 개발에 있어 하나의 뼈대역할"
   ]
  },
  {
   "cell_type": "markdown",
   "metadata": {
    "slideshow": {
     "slide_type": "subslide"
    }
   },
   "source": [
    "__즉, 파이썬이라는 언어로 만들어진 django 프레임워크를 이용하여 웹서비스를 구성한다.__"
   ]
  },
  {
   "cell_type": "markdown",
   "metadata": {
    "slideshow": {
     "slide_type": "slide"
    }
   },
   "source": [
    "## 2. pyenv virtualenv"
   ]
  },
  {
   "cell_type": "markdown",
   "metadata": {
    "slideshow": {
     "slide_type": "subslide"
    }
   },
   "source": [
    "### pyenv\n",
    "\n",
    "pyenv는 프로젝트별로 파이썬 버전을 따로 관리할 수 있도록 도와주는 라이브러리  \n",
    "여러 프로젝트를 동시에 진행하다보면, 어떤 프로젝트에서는 2.7을, 어떤 프로젝트에서는 3.4를 사용하는 식으로 다양한 버전의 사용할 수도 있고, 각각에 설치된 라이브러리간 충돌이 일어날 수도 있음"
   ]
  },
  {
   "cell_type": "markdown",
   "metadata": {
    "slideshow": {
     "slide_type": "subslide"
    }
   },
   "source": [
    "### virtualenv\n",
    "\n",
    "virtualenv는 파이썬 개발환경을 프로젝트별로 분리해서 관리할 수 있게 해주는 라이브러리  \n",
    "위의 pyenv와 다른점은, pyenv는 파이썬의 버전을 관리해주는 것이며, virtualenv는 파이썬 패키지 설치 환경을 따로 관리해줌"
   ]
  },
  {
   "cell_type": "markdown",
   "metadata": {
    "slideshow": {
     "slide_type": "subslide"
    }
   },
   "source": [
    "### pyenv-virtualenv\n",
    "\n",
    "위의 pyenv제작자가, pyenv를 사용할 경우 쉽게 virtualenv를 사용할 수 있도록 만든 라이브러리"
   ]
  },
  {
   "cell_type": "markdown",
   "metadata": {
    "slideshow": {
     "slide_type": "subslide"
    }
   },
   "source": [
    "### pyenv 설치\n",
    "\n",
    "* 맥  \n",
    "```\n",
    "brew install pyenv  \n",
    "brew install pyenv-virtualenv\n",
    "```\n",
    "\n",
    "* 리눅스  \n",
    "<https://github.com/yyuu/pyenv-installer>  \n",
    "```\n",
    "curl -L https://raw.githubusercontent.com/yyuu/pyenv-installer/master/bin/pyenv-installer | bash\n",
    "```"
   ]
  },
  {
   "cell_type": "markdown",
   "metadata": {
    "slideshow": {
     "slide_type": "subslide"
    }
   },
   "source": [
    "### pyenv 설정\n",
    "\n",
    "* 설치 후 pyenv관련 설정을 shell설정에 추가  \n",
    "\t* 맥 `vi ~/.zshrc`\n",
    "\t* 리눅스 \t`vim ~/.zshrc`\n",
    "\n",
    "\n",
    "> 맥\n",
    "> \n",
    "```\n",
    "export PYENV_ROOT=/usr/local/var/pyenv\n",
    "if which pyenv > /dev/null; then eval \"$(pyenv init -)\"; fi\n",
    "if which pyenv-virtualenv-init > /dev/null; then eval \"$(pyenv virtualenv-init -)\"; fi\n",
    "```\n",
    "\n",
    "> 리눅스\n",
    "> \n",
    "```\n",
    "export PATH=\"$HOME/.pyenv/bin:$PATH\"\n",
    "eval \"$(pyenv init -)\"\n",
    "eval \"$(pyenv virtualenv-init -)\"\n",
    "```\n",
    "\n",
    "pyenv 기본 루트폴더는 `~/.pyenv`  \n",
    "pyenv설정을 shell의 설정파일에 기록 후, 터미널을 재시작하거나 `source ~/.zshrc` 또는 `source ~/.zsh_profile`을 실행"
   ]
  },
  {
   "cell_type": "markdown",
   "metadata": {
    "slideshow": {
     "slide_type": "subslide"
    }
   },
   "source": [
    "#### 파이썬 설치 전 필요 패키지 설치\n",
    "\n",
    "<https://github.com/yyuu/pyenv/wiki/Common-build-problems>\n",
    "\n",
    "\n",
    "\n",
    "#### 파이썬 셸 관련 설정 (macOS)\n",
    "\n",
    "> 셸에서 방향키 관련 이슈 해결을 위한 유틸리티 설치\n",
    "\n",
    "관련 유틸리티 설치 (readline, xz)\n",
    "\n",
    "```\n",
    "brew install readline xz\n",
    "```"
   ]
  },
  {
   "cell_type": "markdown",
   "metadata": {
    "slideshow": {
     "slide_type": "subslide"
    }
   },
   "source": [
    "## pyenv 사용\n",
    "#### pyenv를 사용해서 파이썬 3.4.3버전 설치  \n",
    "\n",
    "`pyenv install --list`\n",
    "\n",
    "`pyenv install 3.4.3`\n",
    "\n",
    "#### 가상환경 생성\n",
    "\n",
    "`pyenv virtualenv <version> <env_name>`\n",
    "> `pyenv virtualenv 3.4.3 tutorial` 입력\n",
    "\n",
    "#### 사용할 폴더로 이동\n",
    "```\n",
    "cd projects\n",
    "mkdir python\n",
    "cd python\n",
    "```\n",
    "\n",
    "#### local에 가상환경 지정\n",
    "`pyenv local tutorial`\n",
    "\n",
    "![virtualenv](img/virtualenv.png)\n",
    "\n",
    "그림과 같이 경로앞에 가상환경 이름이 나타남\n",
    "\n",
    "#### 가상환경 지우기\n",
    "`pyenv uninstall <env_name>`\n",
    "\n",
    "#### 현재 설치된 pyenv 환경보기\n",
    "\n",
    "`pyenv versions`"
   ]
  },
  {
   "cell_type": "markdown",
   "metadata": {
    "slideshow": {
     "slide_type": "subslide"
    }
   },
   "source": [
    "### pip\n",
    "\n",
    "pip란 파이썬으로 작성된 패키지, 라이브러리를 설치해주는 파이썬 패키지 매니저\n",
    "\n",
    "#### 패키지 검색\n",
    "```\n",
    "pip search 패키지\n",
    "```\n",
    "\n",
    "이미 설치되었다면 INSTALLED로 나옴\n",
    "\n",
    "#### 패키지 설치\n",
    "```\n",
    "pip install 패키지\n",
    "```\n",
    "\n",
    "#### 패키지 삭제\n",
    "```\n",
    "pip uninstall 패키지\n",
    "```\n",
    "\n",
    "#### 패키지 업그레이드\n",
    "```\n",
    "pip upgrade 패키지\n",
    "```\n",
    "\n",
    "#### 설치된 패키지 확인\n",
    "```\n",
    "pip list\n",
    "```"
   ]
  },
  {
   "cell_type": "markdown",
   "metadata": {
    "slideshow": {
     "slide_type": "slide"
    }
   },
   "source": [
    "## 3. jupyter notebook"
   ]
  },
  {
   "cell_type": "markdown",
   "metadata": {
    "slideshow": {
     "slide_type": "subslide"
    }
   },
   "source": [
    "### jupyter notebook이란\n",
    "\n",
    "jupyter Notebook은 라이브 코드, 방정식, 시각화 및 설명 텍스트가 포함 된 문서를 작성하고 공유 할 수있게 해주는 웹 응용 프로그램\n",
    "\n",
    "즉 인터랙티브한 웹 기반의 IDE\n",
    "\n",
    "Python코드와 Markdown문서로 이루어진 자료를 공유할 수 있게 되었음"
   ]
  },
  {
   "cell_type": "markdown",
   "metadata": {
    "slideshow": {
     "slide_type": "subslide"
    }
   },
   "source": [
    "### iPython\n",
    "\n",
    "기본 파이썬 셸보다 다양한 기능을 사용할 수 있도록 해주는 셸을 제공해줌\n",
    "\n",
    "### iPython 설치\n",
    "\n",
    "```\n",
    "pip install ipython\n",
    "```\n",
    "\n",
    "커맨드라인에서 `ipython`실행"
   ]
  },
  {
   "cell_type": "markdown",
   "metadata": {
    "slideshow": {
     "slide_type": "subslide"
    }
   },
   "source": [
    "### jupyter\n",
    "\n",
    "```\n",
    "pip install jupyter\n",
    "```\n",
    "\n",
    "커맨드라인에서 `jupyter notebook`실행"
   ]
  },
  {
   "cell_type": "markdown",
   "metadata": {
    "slideshow": {
     "slide_type": "slide"
    }
   },
   "source": [
    "## 오늘 할일은\n",
    "\n",
    "### 가상환경을 사용해봅시다."
   ]
  },
  {
   "cell_type": "markdown",
   "metadata": {
    "slideshow": {
     "slide_type": "subslide"
    }
   },
   "source": [
    "- 홈 디렉토리(~)에서 projects 폴더로 이동\n",
    "\n",
    "- prac1이라는 폴더를 생성\n",
    "\n",
    "- python 3.4.3 버전으로 practice라는 가상환경을 생성\n",
    "\n",
    "- prac1이라는 폴더로 이동 후에 해당 폴더에 practice 가상환경을 적용\n",
    "\n",
    "- pip로 ipython을 설치\n",
    "\n",
    "- 커맨드라인에서 ipython을 실행"
   ]
  },
  {
   "cell_type": "markdown",
   "metadata": {
    "slideshow": {
     "slide_type": "subslide"
    }
   },
   "source": [
    "- 다시 projects폴더로 돌아가서 prac2 폴더를 생성\n",
    "\n",
    "- prac2 폴더로 이동 후에 커맨드라인에 ipython을 실행\n",
    "\n",
    "- 해당 폴더에 prac2를 practice 가상환경을 설정\n",
    "\n",
    "- 다시 ipython을 실행"
   ]
  },
  {
   "cell_type": "markdown",
   "metadata": {
    "slideshow": {
     "slide_type": "slide"
    }
   },
   "source": [
    "# (마무리) Python과 장고 환경과 셋팅\n",
    "\n",
    "- Python과 django\n",
    "- pyenv virtualenv\n",
    "- jupyter notebook\n"
   ]
  }
 ],
 "metadata": {
  "celltoolbar": "Slideshow",
  "kernelspec": {
   "display_name": "Python 3",
   "language": "python",
   "name": "python3"
  },
  "language_info": {
   "codemirror_mode": {
    "name": "ipython",
    "version": 3
   },
   "file_extension": ".py",
   "mimetype": "text/x-python",
   "name": "python",
   "nbconvert_exporter": "python",
   "pygments_lexer": "ipython3",
   "version": "3.4.3"
  }
 },
 "nbformat": 4,
 "nbformat_minor": 2
}
