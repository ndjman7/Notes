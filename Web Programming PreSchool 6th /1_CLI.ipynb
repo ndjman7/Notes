{
 "cells": [
  {
   "cell_type": "markdown",
   "metadata": {
    "slideshow": {
     "slide_type": "slide"
    }
   },
   "source": [
    "1. __커맨드라인이란 무엇일까?__\n",
    "2. python과 장고 환경과 셋팅\n",
    "3. 파이썬을 배워보자\n",
    "4. 웹의 역사, 동작하는 방법 등 기초 지식\n",
    "5. 웹 크롤링을 간단히 배워보자!"
   ]
  },
  {
   "cell_type": "markdown",
   "metadata": {
    "slideshow": {
     "slide_type": "slide"
    }
   },
   "source": [
    "#### 제일 중요한 것은 타자연습!\n",
    "\n",
    "http://www.speedcoder.net"
   ]
  },
  {
   "cell_type": "markdown",
   "metadata": {
    "slideshow": {
     "slide_type": "slide"
    }
   },
   "source": [
    "# 커맨드라인이란 무엇일까?\n",
    "\n",
    "- Command-Line Interface란?\n",
    "- Zsh (Oh My Zsh)\n",
    "- VI 편집기\n",
    "- MarkDown\n"
   ]
  },
  {
   "cell_type": "markdown",
   "metadata": {
    "collapsed": true,
    "slideshow": {
     "slide_type": "slide"
    }
   },
   "source": [
    "## 1. Command-Line Interface란?\n",
    "\n",
    "### GUI\n",
    "\n",
    "- 그래픽 사용자 인터페이스(영어: graphical user interface, GUI)는 컴퓨터를 사용하면서, 그림으로 된 화면 위의 물체나 틀, 색상과 같은 그래픽 요소들을 어떠한 기능과 용도를 나타내기 위해 고안된 사용자를 위한 컴퓨터 인터페이스   \n",
    "- 그래픽 사용자 인터페이스에서 어떤 요소를 제어하려면 그 요소에 해당하는 그래픽을 직접 조작  \n",
    "\n",
    "### CLI\n",
    "\n",
    "- 커맨드 라인 인터페이스(영어: command line interface, CLI)는 명령어 및 인자들을 입력하여 컴퓨터를 작동시키는 방식  \n",
    "- 현재 CLI가 많이 쓰이는 경우는 사실상 서버나 프로그래밍과 접점이 닿아있는 부분  \n",
    "    - 즉, 서버 관리 및 서버 프로그래밍, 그리고 프로그래머 기초 교육용  \n",
    "- CLI는 자원을 적게 잡아 먹으면서 고유의 안정성이 있다는 장점이 있음\n",
    "- 서버 쪽에서는 작업 자동화가 필요한 경우가 많은데 파이프와 쉘 스크립트를 이용하는 CLI가 압도적인 효율을 보여줌"
   ]
  },
  {
   "cell_type": "markdown",
   "metadata": {
    "slideshow": {
     "slide_type": "subslide"
    }
   },
   "source": [
    "### 운영체제"
   ]
  },
  {
   "cell_type": "markdown",
   "metadata": {
    "slideshow": {
     "slide_type": "subslide"
    }
   },
   "source": [
    "![](img/os.png)"
   ]
  },
  {
   "cell_type": "markdown",
   "metadata": {
    "slideshow": {
     "slide_type": "subslide"
    }
   },
   "source": [
    "### Kernel\n",
    "\n",
    "컴퓨터의 자원 관리 (메모리, 파일 시스템, 장치 관리)\n",
    "\n",
    "### Shell\n",
    "\n",
    "운영체제 상에서 다양한 기능과 서비스를 구현하는 인터페이스를 제공하는 프로그램  \n",
    "사용자와 운영체제의 내부(커널) 사이의 인터페이스를 감싸는 층이기 때문에 그러한 이름이 붙음"
   ]
  },
  {
   "cell_type": "markdown",
   "metadata": {
    "slideshow": {
     "slide_type": "subslide"
    }
   },
   "source": [
    "### Terminal\n",
    "\n",
    "GUI 위에서 동작하는 커맨드-라인 인터페이스를 뜻함\n",
    "\n",
    "<img src=\"img/terminal.png\" style=\"width: 500px;\"/>\n",
    "\n",
    "- Ternminator\n",
    "- Tmux\n",
    "- Iterm2"
   ]
  },
  {
   "cell_type": "markdown",
   "metadata": {
    "slideshow": {
     "slide_type": "subslide"
    }
   },
   "source": [
    "### 셸의 기능\n",
    "#### 명령어 해석기 기능\n",
    "- 사용자와 커널 사이에서 명령을 해석하여 전달\n",
    "- 사용자가 입력한 명령이나 파잉레엇 읽어들인 명령을 해석하고 적절한 프로그램을 실행\n",
    "\n",
    "#### 프로그래밍 기능\n",
    "- 쉘 프로그램을 쉘 스크립트라고 부름\n",
    "\n",
    "#### 사용자 환경설정 기능\n",
    "- 초기화 파일 기능을 이용해 사용자 환경을 설정"
   ]
  },
  {
   "cell_type": "markdown",
   "metadata": {
    "slideshow": {
     "slide_type": "slide"
    }
   },
   "source": [
    "## 2. Zsh\n",
    "현재 운영체제에서 기본으로 제공되는 Bash Shell보다 조금 더 효율적인 Zsh을 이용\n",
    "\n",
    "### Oh My Zsh\n",
    "Oh My Zsh는 bash보다 최근에 나온 쉘인 zsh의 환경설정을 다루는 프레임워크"
   ]
  },
  {
   "cell_type": "markdown",
   "metadata": {
    "slideshow": {
     "slide_type": "subslide"
    }
   },
   "source": [
    "### 패키지 매니저\n",
    "\n",
    "#### Package \n",
    "- 완성된 소프트웨어나 다른 소프트웨어를 완성하기 위해서 필요한 부품이 되는 소프트웨어를 의미  \n",
    "\n",
    "#### Package manager \n",
    "- 패키지를 설치하기 위해서는 다운로드, 설치, 빌드, 테스트, 업그레이드, 의존성 관리 등 복잡한 상황이 발생 \n",
    "- 이런 복잡성을 낮추고 쉽게 패키지를 이용할 수 있도록 돕는 소프트웨어\n",
    "\n",
    "#### Package manager 예\n",
    "macOS - HomeBrew  \n",
    "Ubuntu - apt"
   ]
  },
  {
   "cell_type": "markdown",
   "metadata": {
    "slideshow": {
     "slide_type": "subslide"
    }
   },
   "source": [
    "### 기본 프롬프트\n",
    "\n",
    "일반사용자 : $  \n",
    "root사용자 : #"
   ]
  },
  {
   "cell_type": "markdown",
   "metadata": {
    "slideshow": {
     "slide_type": "subslide"
    }
   },
   "source": [
    "### 환경설정 파일\n",
    "\n",
    "#### 사용자 초기화 파일\n",
    "\n",
    "셸은 시스템 초기화 파일을 읽은 다음에 사용자 초기화 파일을 읽음.  \n",
    "사용자 초기화 파일은 각 사용자의 홈 디렉토리에 위치.  \n",
    "따라서 개개인마다 다른 설정을 할 수 있으며, 이를 자신에 맞게 적절히 수정해서 사용.\n",
    "\n",
    "초기화 파일 .zshrc\n",
    "\n",
    "#### 초기화 파일 실행하기\n",
    "`source  초기화파일`\n"
   ]
  },
  {
   "cell_type": "markdown",
   "metadata": {
    "slideshow": {
     "slide_type": "subslide"
    }
   },
   "source": [
    "### 기본 셸 변경\n",
    "\n",
    "#### zsh\n",
    "\n",
    "bash와 비슷하게 동작하는 셸로, 사용성이 좋습니다.\n",
    "\n",
    "##### 리눅스\n",
    "\n",
    "```\n",
    "sudo apt-get install zsh\n",
    "curl -L http://install.ohmyz.sh | sh\n",
    "chsh -s `which zsh`\n",
    "```\n",
    "or\n",
    "```\n",
    "curl -OL https://github.com/robbyrussell/oh-my-zsh/raw/master/tools/install.sh\n",
    "bash install.sh\n",
    "```\n",
    "\n",
    "##### 맥\n",
    "\n",
    "```\n",
    "brew install zsh zsh-completions\n",
    "curl -L http://install.ohmyz.sh | sh\n",
    "chsh -s `which zsh`\n",
    "```\n",
    "\n",
    "> **`chsh: /usr/local/bin/zsh: non-standard shell` 오류 발생할 경우**\n",
    "> \n",
    "> ```\n",
    "> sudo vim /etc/shells\n",
    "> 맨 아래에 `which zsh`했을때의 결과를 추가 후 저장\n",
    "> ```\n",
    "\n",
    "> **현재 shell 확인법**  \n",
    "> echo $SHELL"
   ]
  },
  {
   "cell_type": "markdown",
   "metadata": {
    "slideshow": {
     "slide_type": "slide"
    }
   },
   "source": [
    "## 3. VI 편집기\n",
    "\n",
    "### vim설치 (리눅스만)\n",
    "\n",
    "```\n",
    "sudo apt-get install vim\n",
    "```"
   ]
  },
  {
   "cell_type": "markdown",
   "metadata": {
    "slideshow": {
     "slide_type": "subslide"
    }
   },
   "source": [
    "### 동작방식\n",
    "<img src=\"img/vi_system.png\" style=\"width: 600px;\"/>\n"
   ]
  },
  {
   "cell_type": "markdown",
   "metadata": {
    "slideshow": {
     "slide_type": "subslide"
    }
   },
   "source": [
    "#### 명령의 구조\n",
    "\n",
    "명령 [옵션] [인자]\n",
    "\n",
    "__명령__  \n",
    "유닉스에 작업을 지시하는 프로그램 이름  \n",
    "셸 내장 명령(셸 안에 포함)과 유틸리티(독립된 프로그램)로 구분 됨\n",
    "\n",
    "__옵션__  \n",
    "명령의 세부기능을 선택  \n",
    "`-`로 시작하고 숫자, 대문자, 소문자를 이용\n",
    "\n",
    "__인자__  \n",
    "명령으로 전달되는 값  \n",
    "보통 파일명이나 디렉토리명\n",
    "\n",
    "\n",
    "|명령|설명|\n",
    "|-----|-----|\n",
    "|man|명령에 대한 설명 출력|\n",
    "|clear|화면을 깨끗이 지움|\n",
    "|ls|디렉토리의 목록을 보여줌|\n",
    "|mkdir|디렉토리를 생성함|\n",
    "|cd|디렉토리의 위치를 바꿈|\n",
    "|rm|파일 혹은 디렉토리를 지움|\n",
    "|cp|파일 혹은 디렉토리를 복사|\n",
    "|mv|파일의 이름을 변경하거나 옮길때 사용|\n",
    "|cat|파일의 내용을 보여줌|\n",
    "|pwd|현재의 위치를 출력|"
   ]
  },
  {
   "cell_type": "markdown",
   "metadata": {
    "slideshow": {
     "slide_type": "subslide"
    }
   },
   "source": [
    "### VI 사용해보기\n",
    "\n",
    "#### 1. 시작\n",
    "\n",
    "__vi__ - vi를 실행\n",
    "\n",
    "__vi [filename]__ - vi를 시작하여 지정한 파일 편집\n",
    "\n",
    "#### 2. 종료\n",
    "\n",
    "|명령키|수행 작업|\n",
    "|----|----|\n",
    "|:wq|데이터를 저장하고 종료|\n",
    "|:q!|데이터를 저장하지 않고 종료|\n"
   ]
  },
  {
   "cell_type": "markdown",
   "metadata": {
    "slideshow": {
     "slide_type": "subslide"
    }
   },
   "source": [
    "### 모드형\n",
    "\n",
    "- 명령모드에서 입력한 키는 명령으로 간주\n",
    "- 입력모드에서 입력한 키는 데이터로 간주\n",
    "- 모드를 바꾸기 위한 특수 키가 있음(예: Esc)"
   ]
  },
  {
   "cell_type": "markdown",
   "metadata": {
    "slideshow": {
     "slide_type": "subslide"
    }
   },
   "source": [
    "### 입력 명령\n",
    "|명령키|수행 작업|\n",
    "|----|----|\n",
    "|i|커서 앞에 삽입|\n",
    "|a|커서 뒤에 삽입|\n",
    "|o|현재 줄 다음에 삽입|\n",
    "|I|현재 줄 첫 칸 앞에 텍스트 입력|\n",
    "|A|현재 줄 끝에 텍스트 입력|\n",
    "|O|현재 줄 앞에 삽입|\n"
   ]
  },
  {
   "cell_type": "markdown",
   "metadata": {
    "slideshow": {
     "slide_type": "subslide"
    }
   },
   "source": [
    "### 내용 삭제 및 취소\n",
    "\n",
    "|명령어|삭제 대상|수행 작업|\n",
    "|----|----|----|\n",
    "|x, #x|문자|커서 위치의 문자 삭제|\n",
    "|dd, #dd|줄|커서 위취의 줄 삭제|\n",
    "|u||방금 수행한 명령 취소|"
   ]
  },
  {
   "cell_type": "markdown",
   "metadata": {
    "slideshow": {
     "slide_type": "subslide"
    }
   },
   "source": [
    "### 검색 기능\n",
    "\n",
    "|명령어|수행 작업|\n",
    "|----|----|\n",
    "|/문자열|현재 위치부터 파일 앞쪽으로 문자열 탐색|\n",
    "|n|다음 문자열 탐색|\n",
    "|N|역방향으로 문자열 탐색|"
   ]
  },
  {
   "cell_type": "markdown",
   "metadata": {
    "slideshow": {
     "slide_type": "slide"
    }
   },
   "source": [
    "## 4. MarkDown\n",
    "\n",
    "<img src=\"img/markdown.png\" style=\"width: 200px;\"/>\n",
    "\n",
    "- 웹에서 글을 편리하게 쓰기위한 글쓰기 도구\n",
    "- 글을 작성하면 HTML형식으로 변환\n",
    "- 쉽게 글을 쓰고, 쉽게 읽힐 수 있도록 해줌\n"
   ]
  },
  {
   "cell_type": "markdown",
   "metadata": {
    "slideshow": {
     "slide_type": "subslide"
    }
   },
   "source": [
    "### 프로그램 설치\n",
    "\n",
    "#### ubuntu\n",
    "\n",
    "- [remarkable](https://remarkableapp.github.io/)\n",
    "\n",
    "#### mac\n",
    "\n",
    "- [macdown](https://macdown.uranusjr.com/)"
   ]
  },
  {
   "cell_type": "markdown",
   "metadata": {
    "slideshow": {
     "slide_type": "subslide"
    }
   },
   "source": [
    "### 학습\n",
    "\n",
    "https://guides.github.com/features/mastering-markdown/"
   ]
  },
  {
   "cell_type": "markdown",
   "metadata": {
    "slideshow": {
     "slide_type": "slide"
    }
   },
   "source": [
    "## 오늘 할일은\n",
    "\n",
    "### 문제\n",
    "\n",
    "1. cmd를 사용해볼 수 있는 문제\n",
    "\n",
    "2. vi로 문서 편집을 해볼 수 있는 문제"
   ]
  },
  {
   "cell_type": "markdown",
   "metadata": {
    "collapsed": true,
    "slideshow": {
     "slide_type": "slide"
    }
   },
   "source": [
    "# (마무리) 커맨드라인이란 무엇일까?\n",
    "\n",
    "- Command-Line Interface란?\n",
    "- Zsh (Oh My Zsh)\n",
    "- VI 편집기\n",
    "- MarkDown"
   ]
  }
 ],
 "metadata": {
  "kernelspec": {
   "display_name": "Python 3",
   "language": "python",
   "name": "python3"
  },
  "language_info": {
   "codemirror_mode": {
    "name": "ipython",
    "version": 3
   },
   "file_extension": ".py",
   "mimetype": "text/x-python",
   "name": "python",
   "nbconvert_exporter": "python",
   "pygments_lexer": "ipython3",
   "version": "3.4.3"
  }
 },
 "nbformat": 4,
 "nbformat_minor": 2
}
